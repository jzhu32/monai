{
 "cells": [
  {
   "cell_type": "code",
   "execution_count": 3,
   "metadata": {},
   "outputs": [],
   "source": [
    "import os\n",
    "import torch\n",
    "import monai\n",
    "\n",
    "# Define model architecture (ensure it matches your trained model)\n",
    "model = monai.networks.nets.DenseNet121(spatial_dims=2, in_channels=1, out_channels=6)\n",
    "device = torch.device(\"cuda\" if torch.cuda.is_available() else \"cpu\")\n",
    "model.to(device)\n",
    "\n",
    "# Load trained model weights\n",
    "model.load_state_dict(torch.load(\"best_metric_model.pth\", map_location=device))\n",
    "model.eval()\n",
    "\n",
    "# Convert to TorchScript for deployment (Optional but recommended)\n",
    "example_input = torch.randn(1, 1, 128, 128)  # Adjust input size if needed\n",
    "traced_model = torch.jit.trace(model, example_input.to(device))\n",
    "traced_model.save(\"model_scripted.pt\")  # Save for inference\n"
   ]
  },
  {
   "cell_type": "code",
   "execution_count": null,
   "metadata": {},
   "outputs": [],
   "source": []
  }
 ],
 "metadata": {
  "kernelspec": {
   "display_name": ".venv",
   "language": "python",
   "name": "python3"
  },
  "language_info": {
   "codemirror_mode": {
    "name": "ipython",
    "version": 3
   },
   "file_extension": ".py",
   "mimetype": "text/x-python",
   "name": "python",
   "nbconvert_exporter": "python",
   "pygments_lexer": "ipython3",
   "version": "3.13.0"
  }
 },
 "nbformat": 4,
 "nbformat_minor": 2
}
